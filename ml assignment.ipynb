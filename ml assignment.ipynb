{
 "cells": [
  {
   "cell_type": "code",
   "execution_count": 2,
   "id": "d0ef7cc4",
   "metadata": {},
   "outputs": [
    {
     "name": "stdout",
     "output_type": "stream",
     "text": [
      "[10.0, 30.0, 30.0, 30.0, 50.0]\n"
     ]
    }
   ],
   "source": [
    "import numpy as np\n",
    "numbers = np.array([10, None, 30, None, 50], dtype=float)\n",
    "mean_value = np.nanmean(numbers)\n",
    "numbers = np.where(np.isnan(numbers), mean_value, numbers)\n",
    "print(numbers.tolist())"
   ]
  },
  {
   "cell_type": "code",
   "execution_count": 3,
   "id": "00421ae8",
   "metadata": {},
   "outputs": [
    {
     "name": "stdout",
     "output_type": "stream",
     "text": [
      "Enter numbers: 10\n",
      "[10.0]\n"
     ]
    }
   ],
   "source": [
    "import numpy as np\n",
    "numbers = input(\"Enter numbers: \")\n",
    "numbers = [float(x) if x.lower() != 'none' else None for x in numbers.split()]\n",
    "numbers = np.array(numbers, dtype=float)\n",
    "mean_value = np.nanmean(numbers)\n",
    "numbers = np.where(np.isnan(numbers), mean_value, numbers)\n",
    "print(numbers.tolist())\n"
   ]
  },
  {
   "cell_type": "code",
   "execution_count": 4,
   "id": "a3354773",
   "metadata": {},
   "outputs": [
    {
     "name": "stdout",
     "output_type": "stream",
     "text": [
      "[0.0, 0.25, 0.5, 0.75, 1.0]\n"
     ]
    }
   ],
   "source": [
    "def min_max_scaling(numbers):\n",
    "    min_val = min(numbers)\n",
    "    max_val = max(numbers)\n",
    "    return [(x - min_val) / (max_val - min_val) for x in numbers]\n",
    "numbers = [20, 40, 60, 80, 100]\n",
    "scaled_numbers = min_max_scaling(numbers)\n",
    "print(scaled_numbers)\n"
   ]
  },
  {
   "cell_type": "code",
   "execution_count": 5,
   "id": "8ae5a22f",
   "metadata": {},
   "outputs": [
    {
     "name": "stdout",
     "output_type": "stream",
     "text": [
      "Enter numbers: 20 40 50 60\n",
      "[0.0, 0.5, 0.75, 1.0]\n"
     ]
    }
   ],
   "source": [
    "def min_max_scaling(numbers):  #2nd Question--User Input\n",
    "    min_val = min(numbers)\n",
    "    max_val = max(numbers)\n",
    "    return [(x - min_val) / (max_val - min_val) for x in numbers]\n",
    "numbers = list(map(float, input(\"Enter numbers: \").split()))\n",
    "scaled_numbers = min_max_scaling(numbers)\n",
    "print(scaled_numbers)\n"
   ]
  },
  {
   "cell_type": "code",
   "execution_count": 6,
   "id": "30414d4e",
   "metadata": {},
   "outputs": [
    {
     "name": "stdout",
     "output_type": "stream",
     "text": [
      "[0, 1, 0, 1]\n"
     ]
    }
   ],
   "source": [
    "def binarize(numbers, threshold):\n",
    "    return [1 if x >= threshold else 0 for x in numbers]\n",
    "numbers = [1.5, 2.3, 0.8, 3.0]\n",
    "threshold = 2.0\n",
    "binarized_numbers = binarize(numbers, threshold)\n",
    "print(binarized_numbers)"
   ]
  },
  {
   "cell_type": "code",
   "execution_count": 7,
   "id": "651db157",
   "metadata": {},
   "outputs": [
    {
     "name": "stdout",
     "output_type": "stream",
     "text": [
      "[5, 7, 9]\n"
     ]
    }
   ],
   "source": [
    "def f(x):\n",
    "    return 2 * x + 3\n",
    "def approximate(inputs):\n",
    "    return [f(x) for x in inputs]\n",
    "inputs = [1, 2, 3]\n",
    "outputs = approximate(inputs)\n",
    "print(outputs)"
   ]
  },
  {
   "cell_type": "code",
   "execution_count": 8,
   "id": "b9a80161",
   "metadata": {},
   "outputs": [
    {
     "name": "stdout",
     "output_type": "stream",
     "text": [
      "[-1.3416407864998738, -0.4472135954999579, 0.4472135954999579, 1.3416407864998738]\n"
     ]
    }
   ],
   "source": [
    "import math\n",
    "def standardize(numbers):\n",
    "    mean = sum(numbers) / len(numbers)\n",
    "    stdev = math.sqrt(sum((x - mean) ** 2 for x in numbers) / len(numbers))\n",
    "    return [(x - mean) / stdev for x in numbers]\n",
    "inputs = [10, 20, 30, 40]\n",
    "standardized_numbers = standardize(inputs)\n",
    "print(standardized_numbers)\n"
   ]
  },
  {
   "cell_type": "code",
   "execution_count": 9,
   "id": "ad1ee06a",
   "metadata": {},
   "outputs": [
    {
     "name": "stdout",
     "output_type": "stream",
     "text": [
      "{'A': [1, 3, 5], 'B': [2, 4]}\n"
     ]
    }
   ],
   "source": [
    "from collections import defaultdict #6th Question\n",
    "data = [1, 2, 3, 4, 5]\n",
    "labels = [\"A\", \"B\", \"A\", \"B\", \"A\"]\n",
    "concept_representation = defaultdict(list)\n",
    "for point, label in zip(data, labels):\n",
    "    concept_representation[label].append(point)\n",
    "concept_representation = dict(concept_representation)\n",
    "print(concept_representation)"
   ]
  },
  {
   "cell_type": "code",
   "execution_count": 11,
   "id": "cbd6d11c",
   "metadata": {},
   "outputs": [
    {
     "name": "stdout",
     "output_type": "stream",
     "text": [
      "Enter the machine learning task description: 0\n",
      "Unsupervised Learning\n"
     ]
    }
   ],
   "source": [
    "def categorize_task(description):\n",
    "    if \"predict\" in description.lower():\n",
    "        return \"Supervised Learning\"\n",
    "    else:\n",
    "        return \"Unsupervised Learning\"\n",
    "description = input(\"Enter the machine learning task description: \")\n",
    "category = categorize_task(description)\n",
    "print(category)"
   ]
  },
  {
   "cell_type": "code",
   "execution_count": 12,
   "id": "44d5587a",
   "metadata": {},
   "outputs": [
    {
     "name": "stdout",
     "output_type": "stream",
     "text": [
      "5\n"
     ]
    }
   ],
   "source": [
    "def predict_y(m, c, x):\n",
    "    return m * x + c\n",
    "m = 1\n",
    "c = 2\n",
    "x = 3\n",
    "y = predict_y(m, c, x)\n",
    "print(y)"
   ]
  },
  {
   "cell_type": "code",
   "execution_count": 13,
   "id": "f5f6651e",
   "metadata": {},
   "outputs": [
    {
     "name": "stdout",
     "output_type": "stream",
     "text": [
      "[1, 2, 3, 4, 8]\n"
     ]
    }
   ],
   "source": [
    "def remove_duplicates_and_sort(data):\n",
    "    return sorted(set(data))\n",
    "data = [4, 2, 2, 8, 3, 3, 1]\n",
    "result = remove_duplicates_and_sort(data)\n",
    "print(result)\n"
   ]
  },
  {
   "cell_type": "code",
   "execution_count": null,
   "id": "7cea69b8",
   "metadata": {},
   "outputs": [],
   "source": []
  }
 ],
 "metadata": {
  "kernelspec": {
   "display_name": "Python 3 (ipykernel)",
   "language": "python",
   "name": "python3"
  },
  "language_info": {
   "codemirror_mode": {
    "name": "ipython",
    "version": 3
   },
   "file_extension": ".py",
   "mimetype": "text/x-python",
   "name": "python",
   "nbconvert_exporter": "python",
   "pygments_lexer": "ipython3",
   "version": "3.11.5"
  }
 },
 "nbformat": 4,
 "nbformat_minor": 5
}
